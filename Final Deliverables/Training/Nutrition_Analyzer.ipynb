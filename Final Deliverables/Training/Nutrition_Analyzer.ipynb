{
 "cells": [
  {
   "cell_type": "code",
   "execution_count": 1,
   "id": "986ade32",
   "metadata": {},
   "outputs": [],
   "source": [
    "from keras.preprocessing.image import ImageDataGenerator"
   ]
  },
  {
   "cell_type": "code",
   "execution_count": 2,
   "id": "f5ca0c47",
   "metadata": {},
   "outputs": [],
   "source": [
    "train_datagen = ImageDataGenerator(rescale=1./255,shear_range=0.2,zoom_range=0.2,horizontal_flip=True)\n",
    "test_datagen = ImageDataGenerator(rescale=1./255)"
   ]
  },
  {
   "cell_type": "code",
   "execution_count": 3,
   "id": "583d29fc",
   "metadata": {},
   "outputs": [
    {
     "name": "stdout",
     "output_type": "stream",
     "text": [
      "Found 2626 images belonging to 5 classes.\n",
      "Found 1055 images belonging to 5 classes.\n"
     ]
    }
   ],
   "source": [
    "#performing data augmentation to train the data\n",
    "x_train=train_datagen.flow_from_directory(r'C:\\Users\\ELCOT\\Documents\\Dataset\\TRAIN_SET',target_size=(64,64),batch_size=5,color_mode='rgb',class_mode='sparse')\n",
    "#performing data augmentation to test the data\n",
    "x_test=test_datagen.flow_from_directory(r'C:\\Users\\ELCOT\\Documents\\Dataset\\TEST_SET',target_size=(64,64),batch_size=5,color_mode='rgb',class_mode='sparse')\n"
   ]
  },
  {
   "cell_type": "code",
   "execution_count": 4,
   "id": "d4d6f31d",
   "metadata": {},
   "outputs": [
    {
     "name": "stdout",
     "output_type": "stream",
     "text": [
      "{'APPLES': 0, 'BANANA': 1, 'ORANGE': 2, 'PINEAPPLE': 3, 'WATERMELON': 4}\n"
     ]
    }
   ],
   "source": [
    "print(x_train.class_indices)#checking  the no. of classes"
   ]
  },
  {
   "cell_type": "code",
   "execution_count": 5,
   "id": "b297bdd5",
   "metadata": {},
   "outputs": [
    {
     "data": {
      "text/plain": [
       "Counter({0: 606, 1: 445, 2: 479, 3: 621, 4: 475})"
      ]
     },
     "execution_count": 5,
     "metadata": {},
     "output_type": "execute_result"
    }
   ],
   "source": [
    "from collections import Counter as c\n",
    "c(x_train.labels)"
   ]
  },
  {
   "cell_type": "code",
   "execution_count": 6,
   "id": "9ad319f1",
   "metadata": {},
   "outputs": [],
   "source": [
    "###Importing Necessary Libraries"
   ]
  },
  {
   "cell_type": "code",
   "execution_count": 7,
   "id": "03dfc62a",
   "metadata": {},
   "outputs": [],
   "source": [
    "import numpy as np"
   ]
  },
  {
   "cell_type": "code",
   "execution_count": 8,
   "id": "c57811f8",
   "metadata": {},
   "outputs": [],
   "source": [
    "import tensorflow"
   ]
  },
  {
   "cell_type": "code",
   "execution_count": 9,
   "id": "e56decef",
   "metadata": {},
   "outputs": [],
   "source": [
    "from tensorflow.keras.models import Sequential"
   ]
  },
  {
   "cell_type": "code",
   "execution_count": 10,
   "id": "37b47093",
   "metadata": {},
   "outputs": [],
   "source": [
    "from tensorflow.keras import layers"
   ]
  },
  {
   "cell_type": "code",
   "execution_count": 11,
   "id": "fb67b267",
   "metadata": {},
   "outputs": [],
   "source": [
    "from tensorflow.keras.layers import Dense,Flatten"
   ]
  },
  {
   "cell_type": "code",
   "execution_count": 12,
   "id": "3939a0b0",
   "metadata": {},
   "outputs": [],
   "source": [
    "from tensorflow.keras.layers import Conv2D,MaxPooling2D,Dropout"
   ]
  },
  {
   "cell_type": "code",
   "execution_count": 13,
   "id": "29d39ca5",
   "metadata": {},
   "outputs": [],
   "source": [
    "from keras.preprocessing.image import ImageDataGenerator"
   ]
  },
  {
   "cell_type": "code",
   "execution_count": 14,
   "id": "4300e05f",
   "metadata": {},
   "outputs": [],
   "source": [
    "model=Sequential()"
   ]
  },
  {
   "cell_type": "code",
   "execution_count": 15,
   "id": "6d92e0ef",
   "metadata": {},
   "outputs": [],
   "source": [
    "###Creating the model"
   ]
  },
  {
   "cell_type": "code",
   "execution_count": 16,
   "id": "ed486f42",
   "metadata": {},
   "outputs": [],
   "source": [
    "classifier = Sequential()"
   ]
  },
  {
   "cell_type": "code",
   "execution_count": 17,
   "id": "d0eecef1",
   "metadata": {},
   "outputs": [],
   "source": [
    "classifier.add(Conv2D(32, (3, 3), input_shape=(64,64,3),activation='relu'))"
   ]
  },
  {
   "cell_type": "code",
   "execution_count": 18,
   "id": "824b9b63",
   "metadata": {},
   "outputs": [],
   "source": [
    "classifier.add(MaxPooling2D(pool_size=(2,2)))"
   ]
  },
  {
   "cell_type": "code",
   "execution_count": 19,
   "id": "fdde65c3",
   "metadata": {},
   "outputs": [],
   "source": [
    "classifier.add(Conv2D(32, (3,3),activation='relu'))"
   ]
  },
  {
   "cell_type": "code",
   "execution_count": 20,
   "id": "6c3a7c82",
   "metadata": {},
   "outputs": [],
   "source": [
    "classifier.add(MaxPooling2D(pool_size=(2,2)))"
   ]
  },
  {
   "cell_type": "code",
   "execution_count": 21,
   "id": "c7ce3f8f",
   "metadata": {},
   "outputs": [],
   "source": [
    "classifier.add(Flatten())"
   ]
  },
  {
   "cell_type": "code",
   "execution_count": 22,
   "id": "aa8d21d4",
   "metadata": {},
   "outputs": [],
   "source": [
    "classifier.add(Dense(units=128, activation='relu'))\n",
    "classifier.add(Dense(units=5,activation='softmax'))"
   ]
  },
  {
   "cell_type": "code",
   "execution_count": 23,
   "id": "23856805",
   "metadata": {},
   "outputs": [
    {
     "name": "stdout",
     "output_type": "stream",
     "text": [
      "Model: \"sequential_1\"\n",
      "_________________________________________________________________\n",
      " Layer (type)                Output Shape              Param #   \n",
      "=================================================================\n",
      " conv2d (Conv2D)             (None, 62, 62, 32)        896       \n",
      "                                                                 \n",
      " max_pooling2d (MaxPooling2D  (None, 31, 31, 32)       0         \n",
      " )                                                               \n",
      "                                                                 \n",
      " conv2d_1 (Conv2D)           (None, 29, 29, 32)        9248      \n",
      "                                                                 \n",
      " max_pooling2d_1 (MaxPooling  (None, 14, 14, 32)       0         \n",
      " 2D)                                                             \n",
      "                                                                 \n",
      " flatten (Flatten)           (None, 6272)              0         \n",
      "                                                                 \n",
      " dense (Dense)               (None, 128)               802944    \n",
      "                                                                 \n",
      " dense_1 (Dense)             (None, 5)                 645       \n",
      "                                                                 \n",
      "=================================================================\n",
      "Total params: 813,733\n",
      "Trainable params: 813,733\n",
      "Non-trainable params: 0\n",
      "_________________________________________________________________\n"
     ]
    }
   ],
   "source": [
    "classifier.summary()"
   ]
  },
  {
   "cell_type": "code",
   "execution_count": 24,
   "id": "29f623f0",
   "metadata": {},
   "outputs": [],
   "source": [
    "###Compiling the model"
   ]
  },
  {
   "cell_type": "code",
   "execution_count": 25,
   "id": "447dd0d7",
   "metadata": {},
   "outputs": [],
   "source": [
    "classifier.compile(optimizer='adam',loss='sparse_categorical_crossentropy', metrics=['accuracy'])"
   ]
  },
  {
   "cell_type": "code",
   "execution_count": 26,
   "id": "9fa37990",
   "metadata": {},
   "outputs": [
    {
     "name": "stderr",
     "output_type": "stream",
     "text": [
      "C:\\Users\\ELCOT\\AppData\\Local\\Temp/ipykernel_12484/2938698048.py:1: UserWarning: `Model.fit_generator` is deprecated and will be removed in a future version. Please use `Model.fit`, which supports generators.\n",
      "  classifier.fit_generator(generator=x_train,steps_per_epoch = len(x_train),epochs=20,validation_data=x_test,validation_steps = len(x_test))\n"
     ]
    },
    {
     "name": "stdout",
     "output_type": "stream",
     "text": [
      "Epoch 1/20\n",
      "526/526 [==============================] - 114s 207ms/step - loss: 0.1662 - accuracy: 0.9368 - val_loss: 0.0189 - val_accuracy: 0.9905\n",
      "Epoch 2/20\n",
      "526/526 [==============================] - 104s 197ms/step - loss: 0.0628 - accuracy: 0.9867 - val_loss: 0.0021 - val_accuracy: 1.0000\n",
      "Epoch 3/20\n",
      "526/526 [==============================] - 101s 192ms/step - loss: 4.1233e-04 - accuracy: 1.0000 - val_loss: 6.8265e-04 - val_accuracy: 1.0000\n",
      "Epoch 4/20\n",
      "526/526 [==============================] - 89s 170ms/step - loss: 8.9122e-05 - accuracy: 1.0000 - val_loss: 2.7195e-04 - val_accuracy: 1.0000\n",
      "Epoch 5/20\n",
      "526/526 [==============================] - 95s 180ms/step - loss: 8.1831e-05 - accuracy: 1.0000 - val_loss: 1.0187e-04 - val_accuracy: 1.0000\n",
      "Epoch 6/20\n",
      "526/526 [==============================] - 76s 144ms/step - loss: 0.0323 - accuracy: 0.9928 - val_loss: 0.3380 - val_accuracy: 0.9232\n",
      "Epoch 7/20\n",
      "526/526 [==============================] - 83s 157ms/step - loss: 0.0528 - accuracy: 0.9848 - val_loss: 0.0043 - val_accuracy: 1.0000\n",
      "Epoch 8/20\n",
      "526/526 [==============================] - 95s 180ms/step - loss: 1.5718e-04 - accuracy: 1.0000 - val_loss: 8.1668e-04 - val_accuracy: 1.0000\n",
      "Epoch 9/20\n",
      "526/526 [==============================] - 115s 218ms/step - loss: 4.6140e-05 - accuracy: 1.0000 - val_loss: 0.0015 - val_accuracy: 1.0000\n",
      "Epoch 10/20\n",
      "526/526 [==============================] - 100s 190ms/step - loss: 1.9536e-05 - accuracy: 1.0000 - val_loss: 9.8769e-04 - val_accuracy: 1.0000\n",
      "Epoch 11/20\n",
      "526/526 [==============================] - 106s 202ms/step - loss: 1.6204e-05 - accuracy: 1.0000 - val_loss: 6.8193e-04 - val_accuracy: 1.0000\n",
      "Epoch 12/20\n",
      "526/526 [==============================] - 95s 180ms/step - loss: 9.7441e-06 - accuracy: 1.0000 - val_loss: 4.3484e-04 - val_accuracy: 1.0000\n",
      "Epoch 13/20\n",
      "526/526 [==============================] - 95s 179ms/step - loss: 8.6665e-06 - accuracy: 1.0000 - val_loss: 4.3435e-04 - val_accuracy: 1.0000\n",
      "Epoch 14/20\n",
      "526/526 [==============================] - 102s 194ms/step - loss: 4.8897e-06 - accuracy: 1.0000 - val_loss: 2.4767e-04 - val_accuracy: 1.0000\n",
      "Epoch 15/20\n",
      "526/526 [==============================] - 86s 164ms/step - loss: 4.1533e-06 - accuracy: 1.0000 - val_loss: 1.9944e-04 - val_accuracy: 1.0000\n",
      "Epoch 16/20\n",
      "526/526 [==============================] - 88s 168ms/step - loss: 8.8645e-05 - accuracy: 1.0000 - val_loss: 4.7027e-05 - val_accuracy: 1.0000\n",
      "Epoch 17/20\n",
      "526/526 [==============================] - 82s 155ms/step - loss: 4.0111e-07 - accuracy: 1.0000 - val_loss: 4.0447e-05 - val_accuracy: 1.0000\n",
      "Epoch 18/20\n",
      "526/526 [==============================] - 104s 197ms/step - loss: 2.3202e-07 - accuracy: 1.0000 - val_loss: 3.8033e-05 - val_accuracy: 1.0000\n",
      "Epoch 19/20\n",
      "526/526 [==============================] - 90s 172ms/step - loss: 1.6474e-07 - accuracy: 1.0000 - val_loss: 3.6591e-05 - val_accuracy: 1.0000\n",
      "Epoch 20/20\n",
      "526/526 [==============================] - 89s 169ms/step - loss: 2.3428e-07 - accuracy: 1.0000 - val_loss: 2.7310e-05 - val_accuracy: 1.0000\n"
     ]
    },
    {
     "data": {
      "text/plain": [
       "<keras.callbacks.History at 0x219294a5c40>"
      ]
     },
     "execution_count": 26,
     "metadata": {},
     "output_type": "execute_result"
    }
   ],
   "source": [
    "classifier.fit_generator(generator=x_train,steps_per_epoch = len(x_train),epochs=20,validation_data=x_test,validation_steps = len(x_test))"
   ]
  },
  {
   "cell_type": "code",
   "execution_count": 27,
   "id": "6fd68a33",
   "metadata": {},
   "outputs": [],
   "source": [
    "###Saving our model"
   ]
  },
  {
   "cell_type": "code",
   "execution_count": 28,
   "id": "9f0215a9",
   "metadata": {},
   "outputs": [],
   "source": [
    "classifier.save('nutrition.h5')"
   ]
  },
  {
   "cell_type": "code",
   "execution_count": 29,
   "id": "6615fd49",
   "metadata": {},
   "outputs": [],
   "source": [
    "import numpy as np\n",
    "from tensorflow.keras.models  import load_model\n",
    "from tensorflow.keras.preprocessing import image"
   ]
  },
  {
   "cell_type": "code",
   "execution_count": 30,
   "id": "45e4c9d2",
   "metadata": {},
   "outputs": [],
   "source": [
    "model = load_model('nutrition.h5')"
   ]
  },
  {
   "cell_type": "code",
   "execution_count": 31,
   "id": "3c348422",
   "metadata": {},
   "outputs": [
    {
     "data": {
      "image/png": "[encoded data removed]",
      "text/plain": [
       "<PIL.Image.Image image mode=RGB size=64x64 at 0x219293EC9D0>"
      ]
     },
     "execution_count": 31,
     "metadata": {},
     "output_type": "execute_result"
    }
   ],
   "source": [
    "img = image.load_img(r'C:\\Users\\ELCOT\\Documents\\Dataset\\TRAIN_SET\\APPLES\\5_100.jpg',grayscale=False,target_size= (64,64))\n",
    "img"
   ]
  },
  {
   "cell_type": "code",
   "execution_count": 32,
   "id": "2e19f882",
   "metadata": {},
   "outputs": [],
   "source": [
    "import numpy as np\n",
    "x = image.img_to_array(img)\n",
    "x = np.expand_dims(x,axis = 0)"
   ]
  },
  {
   "cell_type": "code",
   "execution_count": 33,
   "id": "6408f49c",
   "metadata": {},
   "outputs": [
    {
     "data": {
      "text/plain": [
       "(1, 64, 64, 3)"
      ]
     },
     "execution_count": 33,
     "metadata": {},
     "output_type": "execute_result"
    }
   ],
   "source": [
    "x.shape"
   ]
  },
  {
   "cell_type": "code",
   "execution_count": 34,
   "id": "2c4b7d2e",
   "metadata": {},
   "outputs": [
    {
     "name": "stdout",
     "output_type": "stream",
     "text": [
      "1/1 [==============================] - 4s 4s/step\n"
     ]
    }
   ],
   "source": [
    "pred = np.argmax(model.predict(x),axis=1)"
   ]
  },
  {
   "cell_type": "code",
   "execution_count": 35,
   "id": "1247285e",
   "metadata": {},
   "outputs": [],
   "source": [
    "index=['APPLES', 'BANANA', 'ORANGE', 'PINEAPPLE', 'WATERMELON']"
   ]
  },
  {
   "cell_type": "code",
   "execution_count": 36,
   "id": "f7931c57",
   "metadata": {},
   "outputs": [
    {
     "data": {
      "text/plain": [
       "'APPLES'"
      ]
     },
     "execution_count": 36,
     "metadata": {},
     "output_type": "execute_result"
    }
   ],
   "source": [
    "index[pred[0]]"
   ]
  },
  {
   "cell_type": "code",
   "execution_count": null,
   "id": "2ec1d337",
   "metadata": {},
   "outputs": [],
   "source": []
  }
 ],
 "metadata": {
  "kernelspec": {
   "display_name": "Python 3 (ipykernel)",
   "language": "python",
   "name": "python3"
  },
  "language_info": {
   "codemirror_mode": {
    "name": "ipython",
    "version": 3
   },
   "file_extension": ".py",
   "mimetype": "text/x-python",
   "name": "python",
   "nbconvert_exporter": "python",
   "pygments_lexer": "ipython3",
   "version": "3.9.7"
  }
 },
 "nbformat": 4,
 "nbformat_minor": 5
}
