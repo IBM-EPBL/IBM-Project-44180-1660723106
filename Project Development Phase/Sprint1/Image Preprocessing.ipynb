{
  "nbformat": 4,
  "nbformat_minor": 0,
  "metadata": {
    "colab": {
      "provenance": []
    },
    "kernelspec": {
      "name": "python3",
      "display_name": "Python 3"
    },
    "language_info": {
      "name": "python"
    }
  },
  "cells": [
    {
      "cell_type": "markdown",
      "source": [
        "## **Image Preprocessing**"
      ],
      "metadata": {
        "id": "aE9aH0mNjqEX"
      }
    },
    {
      "cell_type": "code",
      "source": [
        "from google.colab import drive\n",
        "drive.mount('/content/drive')"
      ],
      "metadata": {
        "colab": {
          "base_uri": "https://localhost:8080/"
        },
        "id": "LQYeJYq6PAFy",
        "outputId": "436724b5-a42a-4a07-fd11-c2260311cb55"
      },
      "execution_count": 1,
      "outputs": [
        {
          "output_type": "stream",
          "name": "stdout",
          "text": [
            "Mounted at /content/drive\n"
          ]
        }
      ]
    },
    {
      "cell_type": "markdown",
      "source": [
        "### **Import The ImageDataGenerator Library**"
      ],
      "metadata": {
        "id": "Wods6esHl1o5"
      }
    },
    {
      "cell_type": "code",
      "source": [
        "import numpy as np\n",
        "import tensorflow\n",
        "from keras.models import Sequential\n",
        "from keras import layers\n",
        "from keras.layers import Dense, Flatten\n",
        "from keras.layers import Conv2D, MaxPooling2D, Dropout\n",
        "from keras.preprocessing.image import ImageDataGenerator"
      ],
      "metadata": {
        "id": "LC9arZqHdL1p"
      },
      "execution_count": 2,
      "outputs": []
    },
    {
      "cell_type": "markdown",
      "source": [
        "## **Configure ImageDataGenerator Class**"
      ],
      "metadata": {
        "id": "GQMoGDOomYvG"
      }
    },
    {
      "cell_type": "markdown",
      "source": [
        "## Image Data Agumentation "
      ],
      "metadata": {
        "id": "V7-npPHXmpnj"
      }
    },
    {
      "cell_type": "code",
      "source": [
        "# Image Data Agumentation for training set\n",
        "train_datagen=ImageDataGenerator(rescale=1./255, shear_range=0.2, zoom_range=0.2, horizontal_flip=True)"
      ],
      "metadata": {
        "id": "9RIpfSHDdPmg"
      },
      "execution_count": 3,
      "outputs": []
    },
    {
      "cell_type": "code",
      "source": [
        "#Image Data Agumentation for testing set\n",
        "test_datagen=ImageDataGenerator(rescale=1./255)"
      ],
      "metadata": {
        "id": "0zjKbrfTdVuN"
      },
      "execution_count": 4,
      "outputs": []
    },
    {
      "cell_type": "markdown",
      "source": [
        "# **Apply Image DataGenerator Functionality To Trainset And Testset** "
      ],
      "metadata": {
        "id": "1pr1KCDxn9le"
      }
    },
    {
      "cell_type": "markdown",
      "source": [
        "## # Loading our data and performing data augmentation"
      ],
      "metadata": {
        "id": "weGwBGeUoWw_"
      }
    },
    {
      "cell_type": "code",
      "source": [
        "#performing data augmentation to train the data\n",
        "x_train=train_datagen.flow_from_directory(\"/content/drive/MyDrive/Dataset/TRAIN_SET\",target_size=(64,64),batch_size=5,color_mode='rgb',class_mode='sparse')\n",
        "#performing data augmentation to test the data\n",
        "x_test=test_datagen.flow_from_directory(\"/content/drive/MyDrive/Dataset/TRAIN_SET\",target_size=(64,64),batch_size=5,color_mode='rgb',class_mode='sparse')\n"
      ],
      "metadata": {
        "colab": {
          "base_uri": "https://localhost:8080/"
        },
        "id": "JwT3MnGfgtM6",
        "outputId": "c97a0c54-063a-4bed-822e-d42234b6724a"
      },
      "execution_count": 8,
      "outputs": [
        {
          "output_type": "stream",
          "name": "stdout",
          "text": [
            "Found 2626 images belonging to 5 classes.\n",
            "Found 2626 images belonging to 5 classes.\n"
          ]
        }
      ]
    },
    {
      "cell_type": "code",
      "source": [
        "print(x_train.class_indices)#checking  the no. of classes"
      ],
      "metadata": {
        "colab": {
          "base_uri": "https://localhost:8080/"
        },
        "id": "1BabSioNhJLK",
        "outputId": "f367c260-85ac-46ab-a72f-41ad86909f0b"
      },
      "execution_count": 9,
      "outputs": [
        {
          "output_type": "stream",
          "name": "stdout",
          "text": [
            "{'APPLES': 0, 'BANANA': 1, 'ORANGE': 2, 'PINEAPPLE': 3, 'WATERMELON': 4}\n"
          ]
        }
      ]
    },
    {
      "cell_type": "code",
      "source": [
        "from collections import Counter as c\n",
        "c(x_train.labels)"
      ],
      "metadata": {
        "colab": {
          "base_uri": "https://localhost:8080/"
        },
        "id": "rSX08pl8hUNQ",
        "outputId": "99a71d6b-d847-44ba-83bf-dcc225f5823b"
      },
      "execution_count": 10,
      "outputs": [
        {
          "output_type": "execute_result",
          "data": {
            "text/plain": [
              "Counter({0: 606, 1: 445, 2: 479, 3: 621, 4: 475})"
            ]
          },
          "metadata": {},
          "execution_count": 10
        }
      ]
    }
  ]
}