{
  "nbformat": 4,
  "nbformat_minor": 0,
  "metadata": {
    "colab": {
      "provenance": []
    },
    "kernelspec": {
      "name": "python3",
      "display_name": "Python 3"
    },
    "language_info": {
      "name": "python"
    }
  },
  "cells": [
    {
      "cell_type": "markdown",
      "source": [
        "# **Model Building**"
      ],
      "metadata": {
        "id": "VDJr4MHxmxaa"
      }
    },
    {
      "cell_type": "code",
      "source": [
        "from google.colab import drive\n",
        "drive.mount('/content/drive')"
      ],
      "metadata": {
        "colab": {
          "base_uri": "https://localhost:8080/"
        },
        "id": "4D5LptqaZc41",
        "outputId": "102a06a6-726e-41f4-fa98-aeaf3c37ae95"
      },
      "execution_count": 1,
      "outputs": [
        {
          "output_type": "stream",
          "name": "stdout",
          "text": [
            "Mounted at /content/drive\n"
          ]
        }
      ]
    },
    {
      "cell_type": "markdown",
      "source": [
        "# **Importing The Model Building Libraries**"
      ],
      "metadata": {
        "id": "vs7KLIz9mnR_"
      }
    },
    {
      "cell_type": "code",
      "source": [
        "#Importing Neccessary Libraries\n",
        "\n",
        "import numpy as np\n",
        "#used for numerical analysis\n",
        "import tensorflow #open source used for both ML and DL for computation\n",
        "from tensorflow.keras.models import Sequential #it is a plain stack of layers\n",
        "from tensorflow.keras import layers # a layer consists of a tensor-in tensor-out computation function\n",
        "#Dense layer is the regular deeply connected neural network layer\n",
        "from tensorflow.keras.layers import Dense, Flatten \n",
        "#Flatten-used fot flattering the input or change the dimension\n",
        "from tensorflow.keras.layers import Conv2D, MaxPooling2D, Dropout #convolutional layer\n",
        "#MaxPooling2D-for downsampling the image\n",
        "from keras.preprocessing.image import ImageDataGenerator"
      ],
      "metadata": {
        "id": "07koTEIjZvKX"
      },
      "execution_count": 2,
      "outputs": []
    },
    {
      "cell_type": "code",
      "source": [
        "train_datagen = ImageDataGenerator(rescale=1./255,shear_range=0.2,zoom_range=0.2,horizontal_flip=True)\n",
        "test_datagen = ImageDataGenerator(rescale=1./255)"
      ],
      "metadata": {
        "id": "CDqZPdH0ZvV1"
      },
      "execution_count": 3,
      "outputs": []
    },
    {
      "cell_type": "code",
      "source": [
        "#performing data augmentation to train the data\n",
        "x_train=train_datagen.flow_from_directory(r'/content/drive/MyDrive/Dataset/TRAIN_SET',target_size=(64,64),batch_size=5,color_mode='rgb',class_mode='sparse')\n",
        "#performing data augmentation to test the data\n",
        "x_test=test_datagen.flow_from_directory(r'/content/drive/MyDrive/Dataset/TRAIN_SET',target_size=(64,64),batch_size=5,color_mode='rgb',class_mode='sparse')\n"
      ],
      "metadata": {
        "colab": {
          "base_uri": "https://localhost:8080/"
        },
        "id": "cEUVVX0iZveZ",
        "outputId": "d5209f39-07a7-4a8b-cf40-801a07bd42a7"
      },
      "execution_count": 4,
      "outputs": [
        {
          "output_type": "stream",
          "name": "stdout",
          "text": [
            "Found 2626 images belonging to 5 classes.\n",
            "Found 2626 images belonging to 5 classes.\n"
          ]
        }
      ]
    },
    {
      "cell_type": "code",
      "source": [
        "print(x_train.class_indices)#checking  the no. of classes"
      ],
      "metadata": {
        "colab": {
          "base_uri": "https://localhost:8080/"
        },
        "id": "ax-wazL3Zvnt",
        "outputId": "cef10beb-d5e8-40ff-9deb-fb4838a91c46"
      },
      "execution_count": 5,
      "outputs": [
        {
          "output_type": "stream",
          "name": "stdout",
          "text": [
            "{'APPLES': 0, 'BANANA': 1, 'ORANGE': 2, 'PINEAPPLE': 3, 'WATERMELON': 4}\n"
          ]
        }
      ]
    },
    {
      "cell_type": "markdown",
      "source": [
        "# **Initializing The Model**"
      ],
      "metadata": {
        "id": "5InEaOmbnDed"
      }
    },
    {
      "cell_type": "code",
      "source": [
        "model = Sequential()"
      ],
      "metadata": {
        "id": "VgZjz2zIZvwT"
      },
      "execution_count": 6,
      "outputs": []
    },
    {
      "cell_type": "markdown",
      "source": [
        "# **Adding CNN Layers**"
      ],
      "metadata": {
        "id": "Asg73Q_DnSnZ"
      }
    },
    {
      "cell_type": "code",
      "source": [
        "classifier = Sequential()"
      ],
      "metadata": {
        "id": "s2q5nZyHZwCG"
      },
      "execution_count": 7,
      "outputs": []
    },
    {
      "cell_type": "code",
      "source": [
        "classifier.add(Conv2D(32, (3, 3), input_shape=(64,64,3),activation='relu'))"
      ],
      "metadata": {
        "id": "mWjWS5MmZwI4"
      },
      "execution_count": 8,
      "outputs": []
    },
    {
      "cell_type": "code",
      "source": [
        "classifier.add(MaxPooling2D(pool_size=(2,2)))"
      ],
      "metadata": {
        "id": "vKMd2YyzZwOT"
      },
      "execution_count": 9,
      "outputs": []
    },
    {
      "cell_type": "code",
      "source": [
        "classifier.add(Conv2D(32, (3,3),activation='relu'))"
      ],
      "metadata": {
        "id": "d8BrWEk-ZwTS"
      },
      "execution_count": 10,
      "outputs": []
    },
    {
      "cell_type": "code",
      "source": [
        "classifier.add(MaxPooling2D(pool_size=(2,2)))"
      ],
      "metadata": {
        "id": "tBc1yUM_a_3X"
      },
      "execution_count": 11,
      "outputs": []
    },
    {
      "cell_type": "code",
      "source": [
        "classifier.add(Flatten())"
      ],
      "metadata": {
        "id": "17tH5f26bACD"
      },
      "execution_count": 12,
      "outputs": []
    },
    {
      "cell_type": "markdown",
      "source": [
        "# **Adding Dense Layers**"
      ],
      "metadata": {
        "id": "5RhPtxWunldk"
      }
    },
    {
      "cell_type": "code",
      "source": [
        "classifier.add(Dense(units=128, activation='relu'))\n",
        "classifier.add(Dense(units=5,activation='softmax'))"
      ],
      "metadata": {
        "id": "tC5eWbK_bAIA"
      },
      "execution_count": 13,
      "outputs": []
    },
    {
      "cell_type": "code",
      "source": [
        "classifier.summary()"
      ],
      "metadata": {
        "colab": {
          "base_uri": "https://localhost:8080/"
        },
        "id": "DH33SyCYbAP9",
        "outputId": "c0d51a24-0d56-4402-cf4c-a80edc1ef67c"
      },
      "execution_count": 14,
      "outputs": [
        {
          "output_type": "stream",
          "name": "stdout",
          "text": [
            "Model: \"sequential_1\"\n",
            "_________________________________________________________________\n",
            " Layer (type)                Output Shape              Param #   \n",
            "=================================================================\n",
            " conv2d (Conv2D)             (None, 62, 62, 32)        896       \n",
            "                                                                 \n",
            " max_pooling2d (MaxPooling2D  (None, 31, 31, 32)       0         \n",
            " )                                                               \n",
            "                                                                 \n",
            " conv2d_1 (Conv2D)           (None, 29, 29, 32)        9248      \n",
            "                                                                 \n",
            " max_pooling2d_1 (MaxPooling  (None, 14, 14, 32)       0         \n",
            " 2D)                                                             \n",
            "                                                                 \n",
            " flatten (Flatten)           (None, 6272)              0         \n",
            "                                                                 \n",
            " dense (Dense)               (None, 128)               802944    \n",
            "                                                                 \n",
            " dense_1 (Dense)             (None, 5)                 645       \n",
            "                                                                 \n",
            "=================================================================\n",
            "Total params: 813,733\n",
            "Trainable params: 813,733\n",
            "Non-trainable params: 0\n",
            "_________________________________________________________________\n"
          ]
        }
      ]
    },
    {
      "cell_type": "markdown",
      "source": [
        "# **Configure The Learning Process**"
      ],
      "metadata": {
        "id": "j7u9zjjFnviu"
      }
    },
    {
      "cell_type": "code",
      "source": [
        "###Compiling the model"
      ],
      "metadata": {
        "id": "mzNjwaiXbAc8"
      },
      "execution_count": 15,
      "outputs": []
    },
    {
      "cell_type": "code",
      "source": [
        "classifier.compile(optimizer='adam',loss='sparse_categorical_crossentropy', metrics=['accuracy'])"
      ],
      "metadata": {
        "id": "uyHvhMzwbAlq"
      },
      "execution_count": 16,
      "outputs": []
    },
    {
      "cell_type": "markdown",
      "source": [
        "# **Train The Model**"
      ],
      "metadata": {
        "id": "esWEMc3aoELh"
      }
    },
    {
      "cell_type": "code",
      "source": [
        "classifier.fit_generator(generator=x_train,steps_per_epoch = len(x_train),epochs=20,validation_data=x_test,validation_steps = len(x_test))"
      ],
      "metadata": {
        "colab": {
          "base_uri": "https://localhost:8080/"
        },
        "id": "bA9YXPcsbAs0",
        "outputId": "2fe13b82-4e7c-419d-8766-ba042df68f98"
      },
      "execution_count": 17,
      "outputs": [
        {
          "metadata": {
            "tags": null
          },
          "name": "stderr",
          "output_type": "stream",
          "text": [
            "/usr/local/lib/python3.7/dist-packages/ipykernel_launcher.py:1: UserWarning: `Model.fit_generator` is deprecated and will be removed in a future version. Please use `Model.fit`, which supports generators.\n",
            "  \"\"\"Entry point for launching an IPython kernel.\n"
          ]
        },
        {
          "output_type": "stream",
          "name": "stdout",
          "text": [
            "Epoch 1/20\n",
            "526/526 [==============================] - 649s 1s/step - loss: 0.1495 - accuracy: 0.9455 - val_loss: 0.0304 - val_accuracy: 1.0000\n",
            "Epoch 2/20\n",
            "526/526 [==============================] - 37s 70ms/step - loss: 0.0103 - accuracy: 0.9973 - val_loss: 8.4749e-05 - val_accuracy: 1.0000\n",
            "Epoch 3/20\n",
            "526/526 [==============================] - 37s 71ms/step - loss: 0.0113 - accuracy: 0.9943 - val_loss: 7.8064e-05 - val_accuracy: 1.0000\n",
            "Epoch 4/20\n",
            "526/526 [==============================] - 41s 77ms/step - loss: 1.6585e-04 - accuracy: 1.0000 - val_loss: 6.4115e-05 - val_accuracy: 1.0000\n",
            "Epoch 5/20\n",
            "526/526 [==============================] - 41s 77ms/step - loss: 7.6087e-05 - accuracy: 1.0000 - val_loss: 1.2573e-05 - val_accuracy: 1.0000\n",
            "Epoch 6/20\n",
            "526/526 [==============================] - 47s 90ms/step - loss: 2.9585e-05 - accuracy: 1.0000 - val_loss: 7.1258e-06 - val_accuracy: 1.0000\n",
            "Epoch 7/20\n",
            "526/526 [==============================] - 38s 72ms/step - loss: 2.6282e-05 - accuracy: 1.0000 - val_loss: 8.2541e-06 - val_accuracy: 1.0000\n",
            "Epoch 8/20\n",
            "526/526 [==============================] - 40s 75ms/step - loss: 1.6472e-05 - accuracy: 1.0000 - val_loss: 3.8630e-06 - val_accuracy: 1.0000\n",
            "Epoch 9/20\n",
            "526/526 [==============================] - 40s 76ms/step - loss: 2.5971e-05 - accuracy: 1.0000 - val_loss: 1.6691e-06 - val_accuracy: 1.0000\n",
            "Epoch 10/20\n",
            "526/526 [==============================] - 38s 72ms/step - loss: 9.3377e-06 - accuracy: 1.0000 - val_loss: 1.1615e-06 - val_accuracy: 1.0000\n",
            "Epoch 11/20\n",
            "526/526 [==============================] - 41s 77ms/step - loss: 4.6238e-06 - accuracy: 1.0000 - val_loss: 7.6750e-07 - val_accuracy: 1.0000\n",
            "Epoch 12/20\n",
            "526/526 [==============================] - 37s 71ms/step - loss: 0.1176 - accuracy: 0.9836 - val_loss: 1.0865e-04 - val_accuracy: 1.0000\n",
            "Epoch 13/20\n",
            "526/526 [==============================] - 37s 71ms/step - loss: 0.0157 - accuracy: 0.9970 - val_loss: 0.0076 - val_accuracy: 1.0000\n",
            "Epoch 14/20\n",
            "526/526 [==============================] - 39s 75ms/step - loss: 0.0111 - accuracy: 0.9973 - val_loss: 5.5176e-05 - val_accuracy: 1.0000\n",
            "Epoch 15/20\n",
            "526/526 [==============================] - 38s 71ms/step - loss: 5.6964e-05 - accuracy: 1.0000 - val_loss: 1.1240e-05 - val_accuracy: 1.0000\n",
            "Epoch 16/20\n",
            "526/526 [==============================] - 35s 67ms/step - loss: 2.5143e-05 - accuracy: 1.0000 - val_loss: 5.7987e-06 - val_accuracy: 1.0000\n",
            "Epoch 17/20\n",
            "526/526 [==============================] - 48s 92ms/step - loss: 1.6250e-05 - accuracy: 1.0000 - val_loss: 3.6119e-06 - val_accuracy: 1.0000\n",
            "Epoch 18/20\n",
            "526/526 [==============================] - 38s 73ms/step - loss: 1.3042e-05 - accuracy: 1.0000 - val_loss: 2.6535e-06 - val_accuracy: 1.0000\n",
            "Epoch 19/20\n",
            "526/526 [==============================] - 38s 72ms/step - loss: 8.7141e-06 - accuracy: 1.0000 - val_loss: 1.6381e-06 - val_accuracy: 1.0000\n",
            "Epoch 20/20\n",
            "526/526 [==============================] - 39s 74ms/step - loss: 6.7588e-06 - accuracy: 1.0000 - val_loss: 1.2506e-06 - val_accuracy: 1.0000\n"
          ]
        },
        {
          "output_type": "execute_result",
          "data": {
            "text/plain": [
              "<keras.callbacks.History at 0x7f59365fda50>"
            ]
          },
          "metadata": {},
          "execution_count": 17
        }
      ]
    },
    {
      "cell_type": "markdown",
      "source": [
        "# **Save The Model**"
      ],
      "metadata": {
        "id": "GFzmHNHWoVN-"
      }
    },
    {
      "cell_type": "code",
      "source": [
        "###Saving our model"
      ],
      "metadata": {
        "id": "VZGUJG_HbAzY"
      },
      "execution_count": 18,
      "outputs": []
    },
    {
      "cell_type": "code",
      "source": [
        "classifier.save('nutrition.h5')"
      ],
      "metadata": {
        "id": "TrxR54qLbA9O"
      },
      "execution_count": 19,
      "outputs": []
    },
    {
      "cell_type": "markdown",
      "source": [
        "# **Test The Model**"
      ],
      "metadata": {
        "id": "qAOoVnOVofzf"
      }
    },
    {
      "cell_type": "code",
      "source": [
        "import numpy as np\n",
        "from tensorflow.keras.models  import load_model\n",
        "from tensorflow.keras.preprocessing import image"
      ],
      "metadata": {
        "id": "YGQNpuwRbw7A"
      },
      "execution_count": 20,
      "outputs": []
    },
    {
      "cell_type": "code",
      "source": [
        "model = load_model('nutrition.h5')"
      ],
      "metadata": {
        "id": "KqItfhuNbxMn"
      },
      "execution_count": 21,
      "outputs": []
    },
    {
      "cell_type": "code",
      "source": [
        "img = image.load_img(r'/content/drive/MyDrive/Dataset/TRAIN_SET/APPLES/5_100.jpg',grayscale=False,target_size= (64,64))\n",
        "img"
      ],
      "metadata": {
        "colab": {
          "base_uri": "https://localhost:8080/",
          "height": 81
        },
        "id": "aiY4bCFhbxb8",
        "outputId": "0d651ebd-c345-46d6-99d0-c4c12d75ac23"
      },
      "execution_count": 22,
      "outputs": [
        {
          "output_type": "execute_result",
          "data": {
            "text/plain": [
              "<PIL.Image.Image image mode=RGB size=64x64 at 0x7F592F6D6A50>"
            ],
            "image/png": "[encoded data removed]"
          },
          "metadata": {},
          "execution_count": 22
        }
      ]
    },
    {
      "cell_type": "code",
      "source": [
        "import numpy as np\n",
        "x = image.img_to_array(img)\n",
        "x = np.expand_dims(x,axis = 0)"
      ],
      "metadata": {
        "id": "JbRK8J_Fbxrk"
      },
      "execution_count": 23,
      "outputs": []
    },
    {
      "cell_type": "code",
      "source": [
        "x.shape"
      ],
      "metadata": {
        "colab": {
          "base_uri": "https://localhost:8080/"
        },
        "id": "UeVpGsikcDWq",
        "outputId": "90b47493-def6-4957-b7ce-fa4a070574f9"
      },
      "execution_count": 24,
      "outputs": [
        {
          "output_type": "execute_result",
          "data": {
            "text/plain": [
              "(1, 64, 64, 3)"
            ]
          },
          "metadata": {},
          "execution_count": 24
        }
      ]
    },
    {
      "cell_type": "code",
      "source": [
        "pred = np.argmax(model.predict(x),axis=1)"
      ],
      "metadata": {
        "colab": {
          "base_uri": "https://localhost:8080/"
        },
        "id": "CM23-c8wcLLH",
        "outputId": "e1ad0750-b3d4-40ac-930d-7cf7993529f8"
      },
      "execution_count": 25,
      "outputs": [
        {
          "output_type": "stream",
          "name": "stdout",
          "text": [
            "1/1 [==============================] - 0s 127ms/step\n"
          ]
        }
      ]
    },
    {
      "cell_type": "code",
      "source": [
        "index=['APPLES', 'BANANA', 'ORANGE', 'PINEAPPLE', 'WATERMELON']"
      ],
      "metadata": {
        "id": "dvVYqIGicLhZ"
      },
      "execution_count": 26,
      "outputs": []
    },
    {
      "cell_type": "code",
      "source": [
        "index[pred[0]]"
      ],
      "metadata": {
        "colab": {
          "base_uri": "https://localhost:8080/",
          "height": 35
        },
        "id": "SP-3MJxkcV2j",
        "outputId": "4ca85fd0-5624-498e-f429-60f033727aa3"
      },
      "execution_count": 27,
      "outputs": [
        {
          "output_type": "execute_result",
          "data": {
            "text/plain": [
              "'APPLES'"
            ],
            "application/vnd.google.colaboratory.intrinsic+json": {
              "type": "string"
            }
          },
          "metadata": {},
          "execution_count": 27
        }
      ]
    }
  ]
}